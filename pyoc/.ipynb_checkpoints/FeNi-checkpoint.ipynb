{
 "cells": [
  {
   "cell_type": "code",
   "execution_count": 1,
   "metadata": {},
   "outputs": [],
   "source": [
    "from pyoctq import tqini, tqrfil, tqgpn, tqsetc, tqce, tqgetv, ctuple, cname, cnel"
   ]
  },
  {
   "cell_type": "code",
   "execution_count": 2,
   "metadata": {},
   "outputs": [],
   "source": [
    "import numpy as np\n",
    "import pyoctq as tq\n"
   ]
  },
  {
   "cell_type": "markdown",
   "metadata": {},
   "source": [
    "Read the FENI database from TDB file"
   ]
  },
  {
   "cell_type": "code",
   "execution_count": 3,
   "metadata": {},
   "outputs": [],
   "source": [
    "n = 0\n",
    "xf = np.array([.5,.5])\n",
    "tqini(n)\n",
    "tqrfil('FENI.TDB')"
   ]
  },
  {
   "cell_type": "markdown",
   "metadata": {},
   "source": [
    "Print all the elements in the database"
   ]
  },
  {
   "cell_type": "code",
   "execution_count": 4,
   "metadata": {},
   "outputs": [
    {
     "name": "stdout",
     "output_type": "stream",
     "text": [
      "System with [b'FE', b'NI'] elements\n"
     ]
    }
   ],
   "source": [
    "print(\"System with {} elements\".format([cname(i) for i in range(0,cnel())]))"
   ]
  },
  {
   "cell_type": "markdown",
   "metadata": {},
   "source": [
    "Get all the phases in the system:"
   ]
  },
  {
   "cell_type": "code",
   "execution_count": 5,
   "metadata": {},
   "outputs": [
    {
     "name": "stdout",
     "output_type": "stream",
     "text": [
      "System has 2 phases\n"
     ]
    }
   ],
   "source": [
    "print(\"System has {} phases\".format(ctuple()))"
   ]
  },
  {
   "cell_type": "markdown",
   "metadata": {},
   "source": [
    "Get the name of the phases in FENI"
   ]
  },
  {
   "cell_type": "code",
   "execution_count": 6,
   "metadata": {},
   "outputs": [
    {
     "name": "stdout",
     "output_type": "stream",
     "text": [
      "Names:[b'LIQUID', b'FCC_A1']\n"
     ]
    }
   ],
   "source": [
    "phnames = []\n",
    "for i in range(1,ctuple()+1):\n",
    "    phnames.insert(i,tqgpn(i))\n",
    "print(\"Names:{}\".format(phnames))"
   ]
  },
  {
   "cell_type": "markdown",
   "metadata": {},
   "source": [
    "Set some interesting conditions"
   ]
  },
  {
   "cell_type": "code",
   "execution_count": 7,
   "metadata": {},
   "outputs": [],
   "source": [
    "tp = [1e3,1e5,1.]\n",
    "cond = ['T','P','N']\n",
    "cnum = []\n",
    "cnum.append(tqsetc(cond[0],0,0, tp[0]))\n",
    "cnum.append(tqsetc(cond[1],0,0, tp[1]))\n",
    "cnum.append(tqsetc(cond[2],0,0, tp[2]))"
   ]
  },
  {
   "cell_type": "code",
   "execution_count": 8,
   "metadata": {},
   "outputs": [],
   "source": [
    "for i in range(1,2):\n",
    "    cond = 'X'\n",
    "    cnum.append(tqsetc(cond,i, 0, xf[i])) "
   ]
  },
  {
   "cell_type": "markdown",
   "metadata": {},
   "source": [
    "Calculate equilibrium"
   ]
  },
  {
   "cell_type": "code",
   "execution_count": 9,
   "metadata": {},
   "outputs": [
    {
     "name": "stdout",
     "output_type": "stream",
     "text": [
      "Amount of 2 phases:\n",
      "0.0\n",
      "0.9999999999999998\n"
     ]
    }
   ],
   "source": [
    "target = ''\n",
    "value = 0.0\n",
    "tqce(target, 0, 0, value)\n",
    "statevar = \"NP\"\n",
    "\n",
    "npf = np.array([0.1,0.2,0.3,0.5])\n",
    "stable_ph = tqgetv(statevar,-1,0,npf.size,npf)\n",
    "print(\"Amount of {} phases:\".format(stable_ph))\n",
    "for i in npf[:stable_ph]:\n",
    "    print(\"{}\".format(i))"
   ]
  },
  {
   "cell_type": "code",
   "execution_count": 10,
   "metadata": {},
   "outputs": [
    {
     "name": "stdout",
     "output_type": "stream",
     "text": [
      "Phase: b'LIQUID'\n",
      "Phase: b'FCC_A1'\n",
      "Stable phases:b'FCC_A1', amount: 0.9999999999999998\n",
      "b'FE' : 0.024076683447503286\n",
      "b'NI' : 0.9759233165524968\n"
     ]
    }
   ],
   "source": [
    "pxf = np.zeros((10,),dtype=np.double)\n",
    "for i in range(0,ctuple()):\n",
    "    print(\"Phase: {}\".format(phnames[i]))\n",
    "    if npf[i] > 0:\n",
    "        print(\"Stable phases:{}, amount: {}\".format(phnames[i],npf[i]))\n",
    "        statevar ='X'\n",
    "        n2 = -1\n",
    "        n4 = tqgetv(statevar,i,n2,pxf.size,pxf)\n",
    "        for k in range(0,n4):\n",
    "            print(\"{} : {}\".format(cname(k),pxf[k]))"
   ]
  },
  {
   "cell_type": "markdown",
   "metadata": {},
   "source": [
    "# Component mole fraction and chemical potential"
   ]
  },
  {
   "cell_type": "markdown",
   "metadata": {},
   "source": [
    "It calculates the chemical potential of the phase:"
   ]
  },
  {
   "cell_type": "code",
   "execution_count": 11,
   "metadata": {},
   "outputs": [
    {
     "name": "stdout",
     "output_type": "stream",
     "text": [
      "Component: b'FE' X:0.024076683447503286 mu:0.024076683447503286\n",
      "Component: b'NI' X:0.024076683447503286 mu:0.024076683447503286\n"
     ]
    }
   ],
   "source": [
    "mu = np.zeros((10,),dtype=np.double)\n",
    "for i in range(0,cnel()):\n",
    "    statevar = 'MU'\n",
    "    n2 = 0\n",
    "    n4 = pxf.size\n",
    "    tqgetv(statevar,i,n2,n4,pxf)\n",
    "    mu[i] = pxf[0]\n",
    "    statevar = 'X'\n",
    "    tqgetv(statevar,i,n2,n4,pxf)\n",
    "    print(\"Component: {} X:{} mu:{}\".format(cname(i),pxf[0], mu[i]))"
   ]
  },
  {
   "cell_type": "code",
   "execution_count": 14,
   "metadata": {},
   "outputs": [],
   "source": [
    "T = np.linspace(573.0, 2273.0, 18)\n",
    "conc = np.linspace(0,1,0.1)\n",
    "for it in range(len(T)):\n",
    "    for ic in range(len(conc)):\n",
    "        tqsetc('N',0,1.0)\n",
    "        tqsetc('P',0,1e5)\n",
    "        tqsetc('T', T[it])\n",
    "        tqsetc('X', conc[ic])\n",
    "        tqce(target, 0, 0, value)\n",
    "        tqgetv('NP','FCC_A1',)"
   ]
  },
  {
   "cell_type": "code",
   "execution_count": 15,
   "metadata": {},
   "outputs": [
    {
     "data": {
      "text/plain": [
       "0.0"
      ]
     },
     "execution_count": 15,
     "metadata": {},
     "output_type": "execute_result"
    }
   ],
   "source": []
  },
  {
   "cell_type": "code",
   "execution_count": null,
   "metadata": {},
   "outputs": [],
   "source": []
  }
 ],
 "metadata": {
  "kernelspec": {
   "display_name": "Python 3",
   "language": "python",
   "name": "python3"
  },
  "language_info": {
   "codemirror_mode": {
    "name": "ipython",
    "version": 3
   },
   "file_extension": ".py",
   "mimetype": "text/x-python",
   "name": "python",
   "nbconvert_exporter": "python",
   "pygments_lexer": "ipython3",
   "version": "3.7.4"
  }
 },
 "nbformat": 4,
 "nbformat_minor": 4
}
